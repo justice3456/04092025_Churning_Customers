{
  "nbformat": 4,
  "nbformat_minor": 0,
  "metadata": {
    "colab": {
      "provenance": [],
      "authorship_tag": "ABX9TyMdtkpZkeBIFFguyhaCZBIq",
      "include_colab_link": true
    },
    "kernelspec": {
      "name": "python3",
      "display_name": "Python 3"
    },
    "language_info": {
      "name": "python"
    }
  },
  "cells": [
    {
      "cell_type": "markdown",
      "metadata": {
        "id": "view-in-github",
        "colab_type": "text"
      },
      "source": [
        "<a href=\"https://colab.research.google.com/github/justice3456/04092025_Churning_Customers/blob/main/Churning_Customers_in_a_Telecoms_Company.ipynb\" target=\"_parent\"><img src=\"https://colab.research.google.com/assets/colab-badge.svg\" alt=\"Open In Colab\"/></a>"
      ]
    },
    {
      "cell_type": "code",
      "execution_count": 1,
      "metadata": {
        "id": "ZZU0cQigiD7g"
      },
      "outputs": [],
      "source": [
        "#starting the project\n",
        "import os\n",
        "import sklearn\n",
        "import numpy as np\n",
        "import pandas as pd\n",
        "import numpy as np, pandas as pd\n",
        "import matplotlib.pyplot as plt\n",
        "from sklearn import tree, metrics\n",
        "from sklearn.model_selection import train_test_split\n",
        "import matplotlib.pyplot as plt\n",
        "from keras.models import Sequential\n",
        "from keras.layers import Dense\n",
        "from sklearn.neural_network import MLPClassifier\n",
        "from sklearn.model_selection import GridSearchCV\n",
        "from sklearn.datasets import make_classification\n",
        "from sklearn.model_selection import cross_val_score\n",
        "from sklearn.metrics import roc_auc_score\n",
        "import pickle"
      ]
    },
    {
      "cell_type": "markdown",
      "source": [
        " **Loading The Data and Analysing the Datat**"
      ],
      "metadata": {
        "id": "WroOXBNcRTZJ"
      }
    },
    {
      "cell_type": "code",
      "source": [
        "#setting up google drive\n",
        "from google.colab import drive\n",
        "drive.mount('/content/drive')"
      ],
      "metadata": {
        "colab": {
          "base_uri": "https://localhost:8080/"
        },
        "id": "N_PJUziZmsPi",
        "outputId": "f7e50b4c-8034-4eda-b7d9-8a4f4244f6d0"
      },
      "execution_count": 2,
      "outputs": [
        {
          "output_type": "stream",
          "name": "stdout",
          "text": [
            "Mounted at /content/drive\n"
          ]
        }
      ]
    },
    {
      "cell_type": "code",
      "source": [
        "#importing the dataset\n",
        "data = pd.read_csv('/content/drive/My Drive/Colab Notebooks/Intro_to_AI/CustomerChurn_dataset.csv')"
      ],
      "metadata": {
        "id": "TNMu8zHznXcd"
      },
      "execution_count": 59,
      "outputs": []
    },
    {
      "cell_type": "code",
      "source": [
        "data.info()"
      ],
      "metadata": {
        "colab": {
          "base_uri": "https://localhost:8080/"
        },
        "id": "1R2j3Q7Hsj9B",
        "outputId": "e3be9703-5c8d-4724-d316-118767a26df4"
      },
      "execution_count": 96,
      "outputs": [
        {
          "output_type": "stream",
          "name": "stdout",
          "text": [
            "<class 'pandas.core.frame.DataFrame'>\n",
            "RangeIndex: 7043 entries, 0 to 7042\n",
            "Data columns (total 21 columns):\n",
            " #   Column            Non-Null Count  Dtype  \n",
            "---  ------            --------------  -----  \n",
            " 0   customerID        7043 non-null   object \n",
            " 1   gender            7043 non-null   object \n",
            " 2   SeniorCitizen     7043 non-null   int64  \n",
            " 3   Partner           7043 non-null   object \n",
            " 4   Dependents        7043 non-null   object \n",
            " 5   tenure            7043 non-null   int64  \n",
            " 6   PhoneService      7043 non-null   object \n",
            " 7   MultipleLines     7043 non-null   object \n",
            " 8   InternetService   7043 non-null   object \n",
            " 9   OnlineSecurity    7043 non-null   object \n",
            " 10  OnlineBackup      7043 non-null   object \n",
            " 11  DeviceProtection  7043 non-null   object \n",
            " 12  TechSupport       7043 non-null   object \n",
            " 13  StreamingTV       7043 non-null   object \n",
            " 14  StreamingMovies   7043 non-null   object \n",
            " 15  Contract          7043 non-null   object \n",
            " 16  PaperlessBilling  7043 non-null   object \n",
            " 17  PaymentMethod     7043 non-null   object \n",
            " 18  MonthlyCharges    7043 non-null   float64\n",
            " 19  TotalCharges      7043 non-null   object \n",
            " 20  Churn             7043 non-null   object \n",
            "dtypes: float64(1), int64(2), object(18)\n",
            "memory usage: 1.1+ MB\n"
          ]
        }
      ]
    },
    {
      "cell_type": "code",
      "source": [
        "#trying to convert total charges to string failed because there are some missing values in total charges.\n",
        "#the first instance of a missing value is at position '488'\n",
        "data.iloc[488]"
      ],
      "metadata": {
        "colab": {
          "base_uri": "https://localhost:8080/"
        },
        "id": "NL_O37GErfvG",
        "outputId": "4faa57fb-a448-4ae6-c1c0-6cc7a24b77b8"
      },
      "execution_count": 4,
      "outputs": [
        {
          "output_type": "execute_result",
          "data": {
            "text/plain": [
              "customerID                         4472-LVYGI\n",
              "gender                                 Female\n",
              "SeniorCitizen                               0\n",
              "Partner                                   Yes\n",
              "Dependents                                Yes\n",
              "tenure                                      0\n",
              "PhoneService                               No\n",
              "MultipleLines                No phone service\n",
              "InternetService                           DSL\n",
              "OnlineSecurity                            Yes\n",
              "OnlineBackup                               No\n",
              "DeviceProtection                          Yes\n",
              "TechSupport                               Yes\n",
              "StreamingTV                               Yes\n",
              "StreamingMovies                            No\n",
              "Contract                             Two year\n",
              "PaperlessBilling                          Yes\n",
              "PaymentMethod       Bank transfer (automatic)\n",
              "MonthlyCharges                          52.55\n",
              "TotalCharges                                 \n",
              "Churn                                      No\n",
              "Name: 488, dtype: object"
            ]
          },
          "metadata": {},
          "execution_count": 4
        }
      ]
    },
    {
      "cell_type": "code",
      "source": [
        "#imputing and converting total charges from object to numeric\n",
        "data['TotalCharges'] = data['TotalCharges'].fillna(method='ffill')\n",
        "data['TotalCharges'] = pd.to_numeric(data['TotalCharges'], errors = 'coerce', downcast = 'float')"
      ],
      "metadata": {
        "id": "zF-sxRTkIhsh"
      },
      "execution_count": 5,
      "outputs": []
    },
    {
      "cell_type": "code",
      "source": [
        "data.iloc[488]"
      ],
      "metadata": {
        "colab": {
          "base_uri": "https://localhost:8080/"
        },
        "id": "TnzVseX2tX1m",
        "outputId": "05c47daf-e7f9-4e4f-8a7b-9d787df68b53"
      },
      "execution_count": 6,
      "outputs": [
        {
          "output_type": "execute_result",
          "data": {
            "text/plain": [
              "customerID                         4472-LVYGI\n",
              "gender                                 Female\n",
              "SeniorCitizen                               0\n",
              "Partner                                   Yes\n",
              "Dependents                                Yes\n",
              "tenure                                      0\n",
              "PhoneService                               No\n",
              "MultipleLines                No phone service\n",
              "InternetService                           DSL\n",
              "OnlineSecurity                            Yes\n",
              "OnlineBackup                               No\n",
              "DeviceProtection                          Yes\n",
              "TechSupport                               Yes\n",
              "StreamingTV                               Yes\n",
              "StreamingMovies                            No\n",
              "Contract                             Two year\n",
              "PaperlessBilling                          Yes\n",
              "PaymentMethod       Bank transfer (automatic)\n",
              "MonthlyCharges                          52.55\n",
              "TotalCharges                              NaN\n",
              "Churn                                      No\n",
              "Name: 488, dtype: object"
            ]
          },
          "metadata": {},
          "execution_count": 6
        }
      ]
    },
    {
      "cell_type": "code",
      "source": [
        "#there are no other missing values thus there is no need to impute\n",
        "#customerID is removed because the ID has no importance in predicting customer churn\n",
        "data.drop('customerID', axis = 1, inplace = True)"
      ],
      "metadata": {
        "id": "KBjMfjP0szWE"
      },
      "execution_count": 7,
      "outputs": []
    },
    {
      "cell_type": "code",
      "source": [
        "#numeric data does not need to be encoded thus, 'SeniorCitizen', 'tenure', 'MonthlyCharges', 'TotalCharges' are not encoded\n",
        "data_to_encode = data.drop(['SeniorCitizen', 'tenure', 'MonthlyCharges', 'TotalCharges'], axis = 1)"
      ],
      "metadata": {
        "id": "DQp9Q3NSxvCE"
      },
      "execution_count": 8,
      "outputs": []
    },
    {
      "cell_type": "code",
      "source": [
        "from sklearn.preprocessing import LabelEncoder"
      ],
      "metadata": {
        "id": "2f4YogH6u9ty"
      },
      "execution_count": 9,
      "outputs": []
    },
    {
      "cell_type": "code",
      "source": [
        "#data_to_encode is a part of the dataset that needs to be encoded and the have non numeric datatypes\n",
        "data_to_encode.info()"
      ],
      "metadata": {
        "colab": {
          "base_uri": "https://localhost:8080/"
        },
        "id": "WKJsU2ErxK4Y",
        "outputId": "d82a684e-1e0b-4dbf-85b2-5864e21abeed"
      },
      "execution_count": 10,
      "outputs": [
        {
          "output_type": "stream",
          "name": "stdout",
          "text": [
            "<class 'pandas.core.frame.DataFrame'>\n",
            "RangeIndex: 7043 entries, 0 to 7042\n",
            "Data columns (total 16 columns):\n",
            " #   Column            Non-Null Count  Dtype \n",
            "---  ------            --------------  ----- \n",
            " 0   gender            7043 non-null   object\n",
            " 1   Partner           7043 non-null   object\n",
            " 2   Dependents        7043 non-null   object\n",
            " 3   PhoneService      7043 non-null   object\n",
            " 4   MultipleLines     7043 non-null   object\n",
            " 5   InternetService   7043 non-null   object\n",
            " 6   OnlineSecurity    7043 non-null   object\n",
            " 7   OnlineBackup      7043 non-null   object\n",
            " 8   DeviceProtection  7043 non-null   object\n",
            " 9   TechSupport       7043 non-null   object\n",
            " 10  StreamingTV       7043 non-null   object\n",
            " 11  StreamingMovies   7043 non-null   object\n",
            " 12  Contract          7043 non-null   object\n",
            " 13  PaperlessBilling  7043 non-null   object\n",
            " 14  PaymentMethod     7043 non-null   object\n",
            " 15  Churn             7043 non-null   object\n",
            "dtypes: object(16)\n",
            "memory usage: 880.5+ KB\n"
          ]
        }
      ]
    },
    {
      "cell_type": "code",
      "source": [
        "#creating an function (automation) for encoding a dataframe which returns an encoded dataframe\n",
        "label_encoder = LabelEncoder()\n",
        "def AutomaticLabelEncoding(dataframe):\n",
        "  encoded_columns = pd.DataFrame() #this dataframe is updated with encoded values during every iteration\n",
        "  for i in dataframe:\n",
        "    i = str(i)\n",
        "    label_encoder_ = LabelEncoder()\n",
        "    encoding = pd.Series(label_encoder.fit_transform(dataframe[i]), name = i)\n",
        "    encoded_columns[i] = encoding\n",
        "  return encoded_columns"
      ],
      "metadata": {
        "id": "CIeBj9VA3DV6"
      },
      "execution_count": 34,
      "outputs": []
    },
    {
      "cell_type": "code",
      "source": [
        "#encodind the data\n",
        "encoded_dataframe = AutomaticLabelEncoding(data_to_encode)\n"
      ],
      "metadata": {
        "id": "AvRufBi-ucDv"
      },
      "execution_count": null,
      "outputs": []
    },
    {
      "cell_type": "code",
      "source": [
        "encoded_dataframe.info()"
      ],
      "metadata": {
        "colab": {
          "base_uri": "https://localhost:8080/"
        },
        "id": "CKSnKtvZzmFr",
        "outputId": "7aae300d-239f-478a-c4bc-47b1379b1e9b"
      },
      "execution_count": 89,
      "outputs": [
        {
          "output_type": "stream",
          "name": "stdout",
          "text": [
            "<class 'pandas.core.frame.DataFrame'>\n",
            "RangeIndex: 7043 entries, 0 to 7042\n",
            "Data columns (total 16 columns):\n",
            " #   Column            Non-Null Count  Dtype\n",
            "---  ------            --------------  -----\n",
            " 0   gender            7043 non-null   int64\n",
            " 1   Partner           7043 non-null   int64\n",
            " 2   Dependents        7043 non-null   int64\n",
            " 3   PhoneService      7043 non-null   int64\n",
            " 4   MultipleLines     7043 non-null   int64\n",
            " 5   InternetService   7043 non-null   int64\n",
            " 6   OnlineSecurity    7043 non-null   int64\n",
            " 7   OnlineBackup      7043 non-null   int64\n",
            " 8   DeviceProtection  7043 non-null   int64\n",
            " 9   TechSupport       7043 non-null   int64\n",
            " 10  StreamingTV       7043 non-null   int64\n",
            " 11  StreamingMovies   7043 non-null   int64\n",
            " 12  Contract          7043 non-null   int64\n",
            " 13  PaperlessBilling  7043 non-null   int64\n",
            " 14  PaymentMethod     7043 non-null   int64\n",
            " 15  Churn             7043 non-null   int64\n",
            "dtypes: int64(16)\n",
            "memory usage: 880.5 KB\n"
          ]
        }
      ]
    },
    {
      "cell_type": "code",
      "source": [
        "path_encoder = '/content/drive/My Drive/Colab Notebooks/Intro_to_AI/Churning_encoder.pkl'\n",
        "with open(path_encoder, 'wb') as f:\n",
        "    pickle.dump(label_encoder, f)"
      ],
      "metadata": {
        "id": "Qm2xtStFeyYz"
      },
      "execution_count": 36,
      "outputs": []
    },
    {
      "cell_type": "code",
      "source": [
        "#a function that takes two dataframes and concats the second dataframe(datafram_to_add) to the right hand side of the first dataframe(dataframe)\n",
        "def SimpleConcat(dataframe, dataframe_to_add):\n",
        "  for i in dataframe_to_add:\n",
        "    dataframe[str(i)] = dataframe_to_add[str(i)]\n",
        "  return dataframe"
      ],
      "metadata": {
        "id": "JBllqBBMww3u"
      },
      "execution_count": 13,
      "outputs": []
    },
    {
      "cell_type": "code",
      "source": [
        "#concatinating the encoded data with the data that did not need encoding\n",
        "numeric_data = SimpleConcat(encoded_dataframe,data[['SeniorCitizen', 'tenure', 'MonthlyCharges']] )"
      ],
      "metadata": {
        "id": "MEAaBvlRY-aI"
      },
      "execution_count": 14,
      "outputs": []
    },
    {
      "cell_type": "code",
      "source": [
        "#A complete dataframe where all values are numeric as it is a requirement for Machine Learning\n",
        "numeric_data.info()"
      ],
      "metadata": {
        "id": "_f2Vm7mI1B1l"
      },
      "execution_count": null,
      "outputs": []
    },
    {
      "cell_type": "code",
      "source": [
        "#defining dependent and independent columns\n",
        "y = numeric_data['Churn']\n",
        "X = numeric_data.drop('Churn', axis = 1)"
      ],
      "metadata": {
        "id": "8iXyGKq_187U"
      },
      "execution_count": 37,
      "outputs": []
    },
    {
      "cell_type": "code",
      "source": [
        "from sklearn.preprocessing import StandardScaler"
      ],
      "metadata": {
        "id": "PE5f4q1z6OJ5"
      },
      "execution_count": 38,
      "outputs": []
    },
    {
      "cell_type": "code",
      "source": [
        "# #Scaling independent columns\n",
        "# Xscaled = StandardScaler().fit_transform(X.copy())\n",
        "# X = pd.DataFrame(Xscaled, columns = X.columns)\n",
        "\n",
        "scaler = StandardScaler().fit(X.copy())\n",
        "X_scaled = scaler.transform(X.copy())\n",
        "X = pd.DataFrame(X_scaled, columns=X.columns)\n"
      ],
      "metadata": {
        "id": "j4EYOEW76Wnj"
      },
      "execution_count": 91,
      "outputs": []
    },
    {
      "cell_type": "code",
      "source": [
        "#Saving scaler\n",
        "path_scaler = '/content/drive/My Drive/Colab Notebooks/Intro_to_AI/Churning_scaler1.pkl'\n",
        "with open(path_scaler, 'wb') as f:\n",
        "    pickle.dump(scaler, f)"
      ],
      "metadata": {
        "id": "YsNRggYBZQnk"
      },
      "execution_count": 93,
      "outputs": []
    },
    {
      "cell_type": "code",
      "source": [
        "data = pd.concat([X, y], axis = 1)"
      ],
      "metadata": {
        "id": "BYZMZYeoduAl"
      },
      "execution_count": 23,
      "outputs": []
    },
    {
      "cell_type": "code",
      "source": [
        "X_train, X_test, y_train, y_test = train_test_split(X, y, test_size = 0.2, random_state = 42)"
      ],
      "metadata": {
        "id": "HBYjzo17BAcn"
      },
      "execution_count": 24,
      "outputs": []
    },
    {
      "cell_type": "markdown",
      "source": [
        "**(1) Using a well known method to extract relevant features that relate to chuning**"
      ],
      "metadata": {
        "id": "cMNUBWBoeTq4"
      }
    },
    {
      "cell_type": "code",
      "source": [
        "from sklearn.ensemble import RandomForestClassifier\n",
        "from sklearn.feature_selection import RFECV"
      ],
      "metadata": {
        "id": "ofNghywzGvaI"
      },
      "execution_count": 25,
      "outputs": []
    },
    {
      "cell_type": "code",
      "source": [
        "# Create a tree-based model (Random Forest in this example)\n",
        "model = RandomForestClassifier(n_estimators = 150, random_state = 42)\n",
        "\n",
        "feature_vetting = RFECV(estimator = model, step = 1, cv = 3, scoring = 'accuracy')\n",
        "feature_vetting.fit(X_train, y_train)\n",
        "\n",
        "randomforest_features = X_train.columns[feature_vetting.support_]"
      ],
      "metadata": {
        "id": "8TbGAowgGByZ"
      },
      "execution_count": 26,
      "outputs": []
    },
    {
      "cell_type": "code",
      "source": [
        "#Using correlation to extract relevant features\n",
        "correlations = numeric_data.corr(numeric_only = True)\n",
        "correlations['Churn'].sort_values(ascending = False)"
      ],
      "metadata": {
        "colab": {
          "base_uri": "https://localhost:8080/"
        },
        "id": "oY5-GatQRgbX",
        "outputId": "9dcfd1a8-dfc1-4403-da0a-1d4a38057bdd"
      },
      "execution_count": 27,
      "outputs": [
        {
          "output_type": "execute_result",
          "data": {
            "text/plain": [
              "Churn               1.000000\n",
              "MonthlyCharges      0.193356\n",
              "PaperlessBilling    0.191825\n",
              "SeniorCitizen       0.150889\n",
              "PaymentMethod       0.107062\n",
              "MultipleLines       0.038037\n",
              "PhoneService        0.011942\n",
              "gender             -0.008612\n",
              "StreamingTV        -0.036581\n",
              "StreamingMovies    -0.038492\n",
              "InternetService    -0.047291\n",
              "Partner            -0.150448\n",
              "Dependents         -0.164221\n",
              "DeviceProtection   -0.178134\n",
              "OnlineBackup       -0.195525\n",
              "TechSupport        -0.282492\n",
              "OnlineSecurity     -0.289309\n",
              "tenure             -0.352229\n",
              "Contract           -0.396713\n",
              "Name: Churn, dtype: float64"
            ]
          },
          "metadata": {},
          "execution_count": 27
        }
      ]
    },
    {
      "cell_type": "code",
      "source": [
        "abs_correlations = correlations['Churn'].abs()\n",
        "selected_features = correlations['Churn'].abs()[correlations['Churn'].abs() > 0.19].index.tolist()\n",
        "selected_features = [col for col in selected_features if col in randomforest_features]"
      ],
      "metadata": {
        "id": "xaOjm_JeSOZ1"
      },
      "execution_count": 28,
      "outputs": []
    },
    {
      "cell_type": "code",
      "source": [
        "#selected features\n",
        "selected_features"
      ],
      "metadata": {
        "id": "t0UI-cAgNmDD",
        "colab": {
          "base_uri": "https://localhost:8080/"
        },
        "outputId": "1f378443-b8f3-465a-e0e5-e0b2d6fcd7f3"
      },
      "execution_count": 32,
      "outputs": [
        {
          "output_type": "execute_result",
          "data": {
            "text/plain": [
              "['OnlineSecurity',\n",
              " 'OnlineBackup',\n",
              " 'TechSupport',\n",
              " 'Contract',\n",
              " 'PaperlessBilling',\n",
              " 'tenure',\n",
              " 'MonthlyCharges']"
            ]
          },
          "metadata": {},
          "execution_count": 32
        }
      ]
    },
    {
      "cell_type": "markdown",
      "source": [
        "**(2) Using EDA to find out which customer profiles relate to EDA a lot**"
      ],
      "metadata": {
        "id": "gSGTeSrUq3KR"
      }
    },
    {
      "cell_type": "code",
      "source": [
        "import seaborn as sns"
      ],
      "metadata": {
        "id": "7LDlBbafsIH8"
      },
      "execution_count": 30,
      "outputs": []
    },
    {
      "cell_type": "code",
      "source": [
        "sns.boxplot(x = 'Churn', y ='tenure', data = numeric_data.copy())\n",
        "plt.show()\n",
        "print('\\n')\n",
        "\n",
        "for i in range(0,7):\n",
        "  sns.countplot(x = numeric_data.copy().columns[i], hue='Churn', data = numeric_data.copy())\n",
        "  plt.show()\n",
        "  print('\\n')"
      ],
      "metadata": {
        "colab": {
          "base_uri": "https://localhost:8080/",
          "height": 1000
        },
        "id": "mzqJnKwIf4eu",
        "outputId": "edea52ba-51c5-4934-8b31-bbaa33437616"
      },
      "execution_count": 33,
      "outputs": [
        {
          "output_type": "display_data",
          "data": {
            "text/plain": [
              "<Figure size 640x480 with 1 Axes>"
            ],
            "image/png": "[encoded data removed]"
          },
          "metadata": {}
        },
        {
          "output_type": "stream",
          "name": "stdout",
          "text": [
            "\n",
            "\n"
          ]
        },
        {
          "output_type": "display_data",
          "data": {
            "text/plain": [
              "<Figure size 640x480 with 1 Axes>"
            ],
            "image/png": "[encoded data removed]"
          },
          "metadata": {}
        },
        {
          "output_type": "stream",
          "name": "stdout",
          "text": [
            "\n",
            "\n"
          ]
        },
        {
          "output_type": "display_data",
          "data": {
            "text/plain": [
              "<Figure size 640x480 with 1 Axes>"
            ],
            "image/png": "[encoded data removed]"
          },
          "metadata": {}
        },
        {
          "output_type": "stream",
          "name": "stdout",
          "text": [
            "\n",
            "\n"
          ]
        },
        {
          "output_type": "display_data",
          "data": {
            "text/plain": [
              "<Figure size 640x480 with 1 Axes>"
            ],
            "image/png": "[encoded data removed]"
          },
          "metadata": {}
        },
        {
          "output_type": "stream",
          "name": "stdout",
          "text": [
            "\n",
            "\n"
          ]
        },
        {
          "output_type": "display_data",
          "data": {
            "text/plain": [
              "<Figure size 640x480 with 1 Axes>"
            ],
            "image/png": "[encoded data removed]"
          },
          "metadata": {}
        },
        {
          "output_type": "stream",
          "name": "stdout",
          "text": [
            "\n",
            "\n"
          ]
        },
        {
          "output_type": "display_data",
          "data": {
            "text/plain": [
              "<Figure size 640x480 with 1 Axes>"
            ],
            "image/png": "[encoded data removed]"
          },
          "metadata": {}
        },
        {
          "output_type": "stream",
          "name": "stdout",
          "text": [
            "\n",
            "\n"
          ]
        },
        {
          "output_type": "display_data",
          "data": {
            "text/plain": [
              "<Figure size 640x480 with 1 Axes>"
            ],
            "image/png": "[encoded data removed]"
          },
          "metadata": {}
        },
        {
          "output_type": "stream",
          "name": "stdout",
          "text": [
            "\n",
            "\n"
          ]
        },
        {
          "output_type": "display_data",
          "data": {
            "text/plain": [
              "<Figure size 640x480 with 1 Axes>"
            ],
            "image/png": "[encoded data removed]"
          },
          "metadata": {}
        },
        {
          "output_type": "stream",
          "name": "stdout",
          "text": [
            "\n",
            "\n"
          ]
        }
      ]
    },
    {
      "cell_type": "code",
      "source": [
        "#splitting the dataset again to since the dataset has been updated to relevant features and the outcome\n",
        "X = X[selected_features]\n",
        "X_train, X_test, y_train, y_test = train_test_split(X, y, test_size = 0.2, random_state = 42)"
      ],
      "metadata": {
        "id": "_8tjti_DOrxl"
      },
      "execution_count": 41,
      "outputs": []
    },
    {
      "cell_type": "code",
      "source": [
        "import keras\n",
        "from keras.models import Model\n",
        "from keras.layers import Input, Dense\n",
        "from keras.optimizers import Adam\n",
        "from keras.utils import to_categorical"
      ],
      "metadata": {
        "id": "wI3McRFoJ8mP"
      },
      "execution_count": 42,
      "outputs": []
    },
    {
      "cell_type": "markdown",
      "source": [
        "**(3) Using the features in (1) to define and train a Multi-Layer Perceptron model using the Functional API**"
      ],
      "metadata": {
        "id": "jvV8h7NLUiUc"
      }
    },
    {
      "cell_type": "code",
      "source": [
        "#Functional API\n",
        "input_layer = Input(shape=(X_train.shape[1],))\n",
        "hidden_layer_1 = Dense(200, activation='relu')(input_layer)\n",
        "hidden_layer_2 = Dense(130, activation='relu')(hidden_layer_1)\n",
        "hidden_layer_3 = Dense(87, activation='relu')(hidden_layer_2)\n",
        "hidden_layer_4 = Dense(25, activation='relu')(hidden_layer_3)\n",
        "hidden_layer_5 = Dense(10, activation='relu')(hidden_layer_4)\n",
        "# Define the output layer for binary classification\n",
        "output_layer = Dense(1, activation='sigmoid')(hidden_layer_5)"
      ],
      "metadata": {
        "id": "-3itYznML57P"
      },
      "execution_count": 43,
      "outputs": []
    },
    {
      "cell_type": "code",
      "source": [
        "#Model\n",
        "model = Model(inputs = input_layer, outputs = output_layer)"
      ],
      "metadata": {
        "id": "fCzfQzR76hWz"
      },
      "execution_count": 44,
      "outputs": []
    },
    {
      "cell_type": "code",
      "source": [
        "#Optimizing the model\n",
        "model.compile(optimizer = Adam(learning_rate = 0.00001), loss = 'binary_crossentropy', metrics = ['accuracy'])\n",
        "model_returned = model.fit(X_train, y_train, epochs = 12, batch_size = 10, validation_data = (X_test, y_test))"
      ],
      "metadata": {
        "colab": {
          "base_uri": "https://localhost:8080/"
        },
        "id": "nNRMoXDP6wlj",
        "outputId": "226a689d-39dd-4928-d3f8-65506605aa18"
      },
      "execution_count": 45,
      "outputs": [
        {
          "output_type": "stream",
          "name": "stdout",
          "text": [
            "Epoch 1/12\n",
            "564/564 [==============================] - 3s 3ms/step - loss: 0.6860 - accuracy: 0.6374 - val_loss: 0.6729 - val_accuracy: 0.7757\n",
            "Epoch 2/12\n",
            "564/564 [==============================] - 2s 3ms/step - loss: 0.6562 - accuracy: 0.7829 - val_loss: 0.6313 - val_accuracy: 0.7906\n",
            "Epoch 3/12\n",
            "564/564 [==============================] - 1s 2ms/step - loss: 0.6009 - accuracy: 0.7847 - val_loss: 0.5599 - val_accuracy: 0.7871\n",
            "Epoch 4/12\n",
            "564/564 [==============================] - 1s 2ms/step - loss: 0.5295 - accuracy: 0.7787 - val_loss: 0.4898 - val_accuracy: 0.7892\n",
            "Epoch 5/12\n",
            "564/564 [==============================] - 1s 2ms/step - loss: 0.4782 - accuracy: 0.7801 - val_loss: 0.4532 - val_accuracy: 0.7878\n",
            "Epoch 6/12\n",
            "564/564 [==============================] - 1s 2ms/step - loss: 0.4566 - accuracy: 0.7852 - val_loss: 0.4382 - val_accuracy: 0.7991\n",
            "Epoch 7/12\n",
            "564/564 [==============================] - 1s 2ms/step - loss: 0.4475 - accuracy: 0.7922 - val_loss: 0.4307 - val_accuracy: 0.8006\n",
            "Epoch 8/12\n",
            "564/564 [==============================] - 1s 2ms/step - loss: 0.4425 - accuracy: 0.7911 - val_loss: 0.4257 - val_accuracy: 0.8006\n",
            "Epoch 9/12\n",
            "564/564 [==============================] - 1s 2ms/step - loss: 0.4393 - accuracy: 0.7904 - val_loss: 0.4226 - val_accuracy: 0.8027\n",
            "Epoch 10/12\n",
            "564/564 [==============================] - 1s 2ms/step - loss: 0.4370 - accuracy: 0.7888 - val_loss: 0.4203 - val_accuracy: 0.8048\n",
            "Epoch 11/12\n",
            "564/564 [==============================] - 1s 2ms/step - loss: 0.4353 - accuracy: 0.7900 - val_loss: 0.4184 - val_accuracy: 0.8041\n",
            "Epoch 12/12\n",
            "564/564 [==============================] - 1s 3ms/step - loss: 0.4338 - accuracy: 0.7904 - val_loss: 0.4169 - val_accuracy: 0.8070\n"
          ]
        }
      ]
    },
    {
      "cell_type": "markdown",
      "source": [
        "**Evaluate the model’s accuracy and calculate the AUC score**"
      ],
      "metadata": {
        "id": "EtvW08M3WcNk"
      }
    },
    {
      "cell_type": "code",
      "source": [
        "# Plotting training and validation loss across epochs\n",
        "train_loss = model_returned.history['loss']\n",
        "val_loss = model_returned.history['val_loss']\n",
        "train_acc = model_returned.history['accuracy']\n",
        "val_acc = model_returned.history['val_accuracy']\n",
        "epochs = range(1, len(train_loss) + 1)\n",
        "\n",
        "plt.figure(figsize=(10, 5))\n",
        "plt.subplot(1, 2, 1)\n",
        "plt.plot(epochs, train_loss, 'b', label='Training loss')\n",
        "plt.plot(epochs, val_loss, 'r', label ='Validation loss')\n",
        "plt.title('Training and Validation Loss')\n",
        "plt.xlabel('Epochs')\n",
        "plt.ylabel('Loss')\n",
        "plt.legend()\n",
        "\n",
        "# Plotting training and validation accuracy across epochs\n",
        "plt.subplot(1, 2, 2)\n",
        "plt.plot(epochs, train_acc, 'b', label = 'Training accuracy')\n",
        "plt.plot(epochs, val_acc, 'r', label = 'Validation accuracy')\n",
        "plt.title('Training and Validation Accuracy')\n",
        "plt.xlabel('Epochs')\n",
        "plt.ylabel('Accuracy')\n",
        "plt.legend()\n",
        "\n",
        "plt.tight_layout()\n",
        "plt.show()"
      ],
      "metadata": {
        "colab": {
          "base_uri": "https://localhost:8080/",
          "height": 507
        },
        "id": "amvZ27vtCWho",
        "outputId": "769609f7-f9ae-4fc4-d83c-9001cebd5707"
      },
      "execution_count": 46,
      "outputs": [
        {
          "output_type": "display_data",
          "data": {
            "text/plain": [
              "<Figure size 1000x500 with 2 Axes>"
            ],
            "image/png": "[encoded data removed]"
          },
          "metadata": {}
        }
      ]
    },
    {
      "cell_type": "markdown",
      "source": [
        "**Evaluating the model’s accuracy, calculating the AUC score**"
      ],
      "metadata": {
        "id": "J-NCRlwK_eUT"
      }
    },
    {
      "cell_type": "code",
      "source": [
        "val, accuracy = model.evaluate(X_train, y_train)\n",
        "accuracy*100"
      ],
      "metadata": {
        "colab": {
          "base_uri": "https://localhost:8080/"
        },
        "id": "amOAVt-NYWiO",
        "outputId": "e47bf91e-f242-4db1-a89a-acbc1b0cf098"
      },
      "execution_count": null,
      "outputs": [
        {
          "output_type": "stream",
          "name": "stdout",
          "text": [
            "177/177 [==============================] - 0s 2ms/step - loss: 0.4385 - accuracy: 0.7934\n"
          ]
        },
        {
          "output_type": "execute_result",
          "data": {
            "text/plain": [
              "79.33972477912903"
            ]
          },
          "metadata": {},
          "execution_count": 33
        }
      ]
    },
    {
      "cell_type": "code",
      "source": [
        "loss, accuracy = model.evaluate(X_test, y_test)\n",
        "print(f'Test Loss: {loss:.4f}')\n",
        "print(f'Test Accuracy: {accuracy*100:.4f}')"
      ],
      "metadata": {
        "colab": {
          "base_uri": "https://localhost:8080/"
        },
        "id": "lNAlAqFWYdpb",
        "outputId": "36fe8e7a-b425-4ec6-9bb2-862010cbe076"
      },
      "execution_count": null,
      "outputs": [
        {
          "output_type": "stream",
          "name": "stdout",
          "text": [
            "45/45 [==============================] - 0s 2ms/step - loss: 0.4220 - accuracy: 0.8041\n",
            "Test Loss: 0.4220\n",
            "Test Accuracy: 80.4116\n"
          ]
        }
      ]
    },
    {
      "cell_type": "code",
      "source": [
        "from sklearn.metrics import roc_auc_score\n",
        "\n",
        "y_pred_proba = model.predict(X_test)\n",
        "\n",
        "# Calculate the AUC score\n",
        "auc_score = roc_auc_score(y_test, y_pred_proba)\n",
        "print(f'AUC Score: {auc_score:.4f}')"
      ],
      "metadata": {
        "colab": {
          "base_uri": "https://localhost:8080/"
        },
        "id": "nki4iH_qBBvO",
        "outputId": "f3cf346a-3ff0-410e-ad2c-c13788a06ebd"
      },
      "execution_count": null,
      "outputs": [
        {
          "output_type": "stream",
          "name": "stdout",
          "text": [
            "45/45 [==============================] - 1s 5ms/step\n",
            "AUC Score: 0.8465\n"
          ]
        }
      ]
    },
    {
      "cell_type": "markdown",
      "source": [
        "**Training an MLP using features from (1) with cross validation and GridSearchCV**"
      ],
      "metadata": {
        "id": "T2Tn0pFkpZHY"
      }
    },
    {
      "cell_type": "code",
      "source": [
        "mlp_crossvalidation = MLPClassifier(max_iter = 100, hidden_layer_sizes = (50,))\n",
        "\n",
        "# Perform cross-validation\n",
        "scores = cross_val_score(mlp_crossvalidation, X, y, cv = 5, scoring = 'accuracy')\n",
        "\n",
        "# Print the cross-validation scores\n",
        "print(\"Cross-validation scores:\", scores)\n",
        "print(\"Average accuracy:\", scores.mean())"
      ],
      "metadata": {
        "colab": {
          "base_uri": "https://localhost:8080/"
        },
        "id": "PG9k9CB8qk4C",
        "outputId": "310ff699-6ce2-4e01-ac4f-dceaf984ed74"
      },
      "execution_count": null,
      "outputs": [
        {
          "output_type": "stream",
          "name": "stderr",
          "text": [
            "/usr/local/lib/python3.10/dist-packages/sklearn/neural_network/_multilayer_perceptron.py:686: ConvergenceWarning: Stochastic Optimizer: Maximum iterations (100) reached and the optimization hasn't converged yet.\n",
            "  warnings.warn(\n",
            "/usr/local/lib/python3.10/dist-packages/sklearn/neural_network/_multilayer_perceptron.py:686: ConvergenceWarning: Stochastic Optimizer: Maximum iterations (100) reached and the optimization hasn't converged yet.\n",
            "  warnings.warn(\n",
            "/usr/local/lib/python3.10/dist-packages/sklearn/neural_network/_multilayer_perceptron.py:686: ConvergenceWarning: Stochastic Optimizer: Maximum iterations (100) reached and the optimization hasn't converged yet.\n",
            "  warnings.warn(\n",
            "/usr/local/lib/python3.10/dist-packages/sklearn/neural_network/_multilayer_perceptron.py:686: ConvergenceWarning: Stochastic Optimizer: Maximum iterations (100) reached and the optimization hasn't converged yet.\n",
            "  warnings.warn(\n"
          ]
        },
        {
          "output_type": "stream",
          "name": "stdout",
          "text": [
            "Cross-validation scores: [0.8133428  0.80056778 0.78992193 0.80752841 0.80255682]\n",
            "Average accuracy: 0.8027835465191302\n"
          ]
        },
        {
          "output_type": "stream",
          "name": "stderr",
          "text": [
            "/usr/local/lib/python3.10/dist-packages/sklearn/neural_network/_multilayer_perceptron.py:686: ConvergenceWarning: Stochastic Optimizer: Maximum iterations (100) reached and the optimization hasn't converged yet.\n",
            "  warnings.warn(\n"
          ]
        }
      ]
    },
    {
      "cell_type": "code",
      "source": [
        "# Define the MLPClassifier\n",
        "mlp_gridsearch = MLPClassifier(max_iter = 100)\n",
        "\n",
        "# Define the parameter grid to explore different hyperparameters\n",
        "parameter_grid = {\n",
        "    'hidden_layer_sizes': [(50,), (100,), (50, 50), (100, 50)],\n",
        "    'batch_size': [10,32,64],\n",
        "    'activation': ['relu', 'tanh'],\n",
        "    'solver': ['adam', 'sgd'],\n",
        "    'alpha': [0.0001, 0.001, 0.01],\n",
        "}\n",
        "\n",
        "# Using GridSearchCV for hyperparameter tuning with cross-validation\n",
        "grid_search = GridSearchCV(mlp_gridsearch, parameter_grid, cv = 5, scoring = 'accuracy', verbose = 1)\n",
        "\n",
        "# Fit the model on the training data\n",
        "grid_search.fit(X_train, y_train)"
      ],
      "metadata": {
        "id": "cnVaL7HsdxaN"
      },
      "execution_count": null,
      "outputs": []
    },
    {
      "cell_type": "code",
      "source": [
        "best_params = grid_search.best_params_\n",
        "best_model = grid_search.best_estimator_\n",
        "\n",
        "# Evaluate the best model on the test set\n",
        "test_accuracy = best_model.score(X_test, y_test)\n",
        "\n",
        "print(\"Best Hyperparameters:\", best_params)\n",
        "print(\"Test Accuracy:\", test_accuracy)"
      ],
      "metadata": {
        "colab": {
          "base_uri": "https://localhost:8080/"
        },
        "id": "WFlWBiuOehZl",
        "outputId": "ac8ca89f-c97a-46ed-8da8-0d2dd00c22e9"
      },
      "execution_count": null,
      "outputs": [
        {
          "output_type": "stream",
          "name": "stdout",
          "text": [
            "Best Hyperparameters: {'activation': 'relu', 'alpha': 0.01, 'batch_size': 64, 'hidden_layer_sizes': (100,), 'solver': 'adam'}\n",
            "Test Accuracy: 0.8097941802696949\n"
          ]
        }
      ]
    },
    {
      "cell_type": "markdown",
      "source": [
        "**Optimiseing the model, training and testing again**"
      ],
      "metadata": {
        "id": "t3D3_NMmDm_z"
      }
    },
    {
      "cell_type": "code",
      "source": [
        "model_returned = model.fit(X_train, y_train, epochs = 12, batch_size = 64, validation_data = (X_test, y_test))"
      ],
      "metadata": {
        "colab": {
          "base_uri": "https://localhost:8080/"
        },
        "id": "mjj-h6g_Drbm",
        "outputId": "a5e72a4a-4d5b-42a7-bcf1-2cafed244b94"
      },
      "execution_count": 94,
      "outputs": [
        {
          "output_type": "stream",
          "name": "stdout",
          "text": [
            "Epoch 1/12\n",
            "89/89 [==============================] - 0s 3ms/step - loss: 0.4304 - accuracy: 0.7923 - val_loss: 0.4143 - val_accuracy: 0.8077\n",
            "Epoch 2/12\n",
            "89/89 [==============================] - 0s 3ms/step - loss: 0.4302 - accuracy: 0.7922 - val_loss: 0.4141 - val_accuracy: 0.8077\n",
            "Epoch 3/12\n",
            "89/89 [==============================] - 0s 4ms/step - loss: 0.4300 - accuracy: 0.7929 - val_loss: 0.4138 - val_accuracy: 0.8070\n",
            "Epoch 4/12\n",
            "89/89 [==============================] - 0s 4ms/step - loss: 0.4297 - accuracy: 0.7936 - val_loss: 0.4136 - val_accuracy: 0.8070\n",
            "Epoch 5/12\n",
            "89/89 [==============================] - 0s 4ms/step - loss: 0.4295 - accuracy: 0.7938 - val_loss: 0.4134 - val_accuracy: 0.8077\n",
            "Epoch 6/12\n",
            "89/89 [==============================] - 0s 4ms/step - loss: 0.4293 - accuracy: 0.7927 - val_loss: 0.4132 - val_accuracy: 0.8062\n",
            "Epoch 7/12\n",
            "89/89 [==============================] - 0s 3ms/step - loss: 0.4291 - accuracy: 0.7930 - val_loss: 0.4129 - val_accuracy: 0.8055\n",
            "Epoch 8/12\n",
            "89/89 [==============================] - 0s 4ms/step - loss: 0.4289 - accuracy: 0.7941 - val_loss: 0.4127 - val_accuracy: 0.8055\n",
            "Epoch 9/12\n",
            "89/89 [==============================] - 0s 3ms/step - loss: 0.4287 - accuracy: 0.7939 - val_loss: 0.4125 - val_accuracy: 0.8055\n",
            "Epoch 10/12\n",
            "89/89 [==============================] - 0s 3ms/step - loss: 0.4285 - accuracy: 0.7936 - val_loss: 0.4123 - val_accuracy: 0.8062\n",
            "Epoch 11/12\n",
            "89/89 [==============================] - 0s 4ms/step - loss: 0.4282 - accuracy: 0.7939 - val_loss: 0.4121 - val_accuracy: 0.8062\n",
            "Epoch 12/12\n",
            "89/89 [==============================] - 0s 4ms/step - loss: 0.4281 - accuracy: 0.7932 - val_loss: 0.4119 - val_accuracy: 0.8055\n"
          ]
        }
      ]
    },
    {
      "cell_type": "code",
      "source": [
        "# Plotting training and validation loss across epochs\n",
        "train_loss = model_returned.history['loss']\n",
        "val_loss = model_returned.history['val_loss']\n",
        "train_acc = model_returned.history['accuracy']\n",
        "val_acc = model_returned.history['val_accuracy']\n",
        "epochs = range(1, len(train_loss) + 1)\n",
        "\n",
        "plt.figure(figsize=(6, 3))\n",
        "plt.subplot(1, 2, 1)\n",
        "plt.plot(epochs, train_loss, 'b', label='Training loss')\n",
        "plt.plot(epochs, val_loss, 'r', label ='Validation loss')\n",
        "plt.title('Training and Validation Loss')\n",
        "plt.xlabel('Epochs')\n",
        "plt.ylabel('Loss')\n",
        "plt.legend()\n",
        "\n",
        "# Plotting training and validation accuracy across epochs\n",
        "plt.subplot(1, 2, 2)\n",
        "plt.plot(epochs, train_acc, 'b', label = 'Training accuracy')\n",
        "plt.plot(epochs, val_acc, 'r', label = 'Validation accuracy')\n",
        "plt.title('Training and Validation Accuracy')\n",
        "plt.xlabel('Epochs')\n",
        "plt.ylabel('Accuracy')\n",
        "plt.legend()\n",
        "\n",
        "plt.tight_layout()\n",
        "plt.show()"
      ],
      "metadata": {
        "colab": {
          "base_uri": "https://localhost:8080/",
          "height": 307
        },
        "id": "bMgle0vVEdOj",
        "outputId": "66374522-77c2-444f-fe27-55ccde01cde4"
      },
      "execution_count": 48,
      "outputs": [
        {
          "output_type": "display_data",
          "data": {
            "text/plain": [
              "<Figure size 600x300 with 2 Axes>"
            ],
            "image/png": "[encoded data removed]"
          },
          "metadata": {}
        }
      ]
    },
    {
      "cell_type": "code",
      "source": [
        "val, accuracy = model.evaluate(X_train, y_train)\n",
        "accuracy*100"
      ],
      "metadata": {
        "colab": {
          "base_uri": "https://localhost:8080/"
        },
        "id": "gHjme_otEnm6",
        "outputId": "95c8be9c-aba9-4bbd-e911-2155a2b92e9b"
      },
      "execution_count": 49,
      "outputs": [
        {
          "output_type": "stream",
          "name": "stdout",
          "text": [
            "177/177 [==============================] - 0s 2ms/step - loss: 0.4304 - accuracy: 0.7927\n"
          ]
        },
        {
          "output_type": "execute_result",
          "data": {
            "text/plain": [
              "79.26872372627258"
            ]
          },
          "metadata": {},
          "execution_count": 49
        }
      ]
    },
    {
      "cell_type": "code",
      "source": [
        "loss, accuracy = model.evaluate(X_test, y_test)\n",
        "print(f'Test Loss: {loss:.4f}')\n",
        "print(f'Test Accuracy: {accuracy*100:.4f}')"
      ],
      "metadata": {
        "colab": {
          "base_uri": "https://localhost:8080/"
        },
        "id": "v1ShmQSkE8li",
        "outputId": "9cc11de0-4f4d-4b67-87f9-8610f11759aa"
      },
      "execution_count": 50,
      "outputs": [
        {
          "output_type": "stream",
          "name": "stdout",
          "text": [
            "45/45 [==============================] - 0s 1ms/step - loss: 0.4145 - accuracy: 0.8084\n",
            "Test Loss: 0.4145\n",
            "Test Accuracy: 80.8375\n"
          ]
        }
      ]
    },
    {
      "cell_type": "code",
      "source": [
        "y_pred_proba = model.predict(X_test)\n",
        "\n",
        "# Calculate the AUC score\n",
        "auc_score = roc_auc_score(y_test, y_pred_proba)\n",
        "print(f'AUC Score: {auc_score:.4f}')"
      ],
      "metadata": {
        "colab": {
          "base_uri": "https://localhost:8080/"
        },
        "id": "CKNaq2x_FFJb",
        "outputId": "526c75fe-549e-4dc5-9047-a123c04eae03"
      },
      "execution_count": 51,
      "outputs": [
        {
          "output_type": "stream",
          "name": "stdout",
          "text": [
            "45/45 [==============================] - 0s 1ms/step\n",
            "AUC Score: 0.8491\n"
          ]
        }
      ]
    },
    {
      "cell_type": "markdown",
      "source": [
        "**Saving the model**"
      ],
      "metadata": {
        "id": "TjS_sW5BWJZC"
      }
    },
    {
      "cell_type": "code",
      "source": [
        "path_model = '/content/drive/My Drive/Colab Notebooks/Intro_to_AI/Churning_model1.pkl'\n",
        "with open(path_model, 'wb') as f:\n",
        "    pickle.dump(model_returned, f)"
      ],
      "metadata": {
        "id": "1AZQ0Os7WGSX"
      },
      "execution_count": 95,
      "outputs": []
    }
  ]
}